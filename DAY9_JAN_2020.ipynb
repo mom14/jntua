{
  "nbformat": 4,
  "nbformat_minor": 0,
  "metadata": {
    "colab": {
      "name": "DAY9_JAN_2020.ipynb",
      "provenance": [],
      "authorship_tag": "ABX9TyNmomkioW2+r7eOWExz54KO",
      "include_colab_link": true
    },
    "kernelspec": {
      "name": "python3",
      "display_name": "Python 3"
    }
  },
  "cells": [
    {
      "cell_type": "markdown",
      "metadata": {
        "id": "view-in-github",
        "colab_type": "text"
      },
      "source": [
        "<a href=\"https://colab.research.google.com/github/mom14/jntua/blob/master/DAY9_JAN_2020.ipynb\" target=\"_parent\"><img src=\"https://colab.research.google.com/assets/colab-badge.svg\" alt=\"Open In Colab\"/></a>"
      ]
    },
    {
      "cell_type": "code",
      "metadata": {
        "id": "1PZI9NHQ8IKn",
        "colab_type": "code",
        "colab": {}
      },
      "source": [
        ""
      ],
      "execution_count": 0,
      "outputs": []
    },
    {
      "cell_type": "markdown",
      "metadata": {
        "id": "s7WwKb5F9mni",
        "colab_type": "text"
      },
      "source": [
        "#Markdown"
      ]
    },
    {
      "cell_type": "markdown",
      "metadata": {
        "id": "Fi_Ucvlr99AB",
        "colab_type": "text"
      },
      "source": [
        "## Purna\n",
        "### Purna\n",
        "#### Purna"
      ]
    },
    {
      "cell_type": "code",
      "metadata": {
        "id": "ilmBFl6W-c9N",
        "colab_type": "code",
        "colab": {}
      },
      "source": [
        ""
      ],
      "execution_count": 0,
      "outputs": []
    },
    {
      "cell_type": "markdown",
      "metadata": {
        "id": "fHmjc_Q2-ePf",
        "colab_type": "text"
      },
      "source": [
        "**Purna**\n",
        "\n",
        "*Purna*\n",
        "\n",
        "***Purna***\n"
      ]
    },
    {
      "cell_type": "markdown",
      "metadata": {
        "id": "jeaqYidw_7lA",
        "colab_type": "text"
      },
      "source": [
        "***Adding links to marker***\n",
        "Google site.....[\n",
        "\n",
        "[site](http://jntuacea.ac.in/)"
      ]
    },
    {
      "cell_type": "code",
      "metadata": {
        "id": "m_L-lY0kBpf8",
        "colab_type": "code",
        "colab": {}
      },
      "source": [
        ""
      ],
      "execution_count": 0,
      "outputs": []
    },
    {
      "cell_type": "markdown",
      "metadata": {
        "id": "2slsOLLUBrb8",
        "colab_type": "text"
      },
      "source": [
        "### Inserting image\n",
        "![text](https://tse2.mm.bing.net/th?id=OIP.TO5ha8y6e9jdyijKyIH3hgAAAA&pid=Api&P=0&w=300&h=300)"
      ]
    },
    {
      "cell_type": "code",
      "metadata": {
        "id": "FZvCK2QcCMBs",
        "colab_type": "code",
        "colab": {
          "base_uri": "https://localhost:8080/",
          "height": 33
        },
        "outputId": "4363bf1e-1335-4ba9-9a99-851c58788398"
      },
      "source": [
        "print(\"Hello world\")"
      ],
      "execution_count": 1,
      "outputs": [
        {
          "output_type": "stream",
          "text": [
            "Hello world\n"
          ],
          "name": "stdout"
        }
      ]
    },
    {
      "cell_type": "code",
      "metadata": {
        "id": "YMnKawbMCytq",
        "colab_type": "code",
        "colab": {
          "base_uri": "https://localhost:8080/",
          "height": 33
        },
        "outputId": "f39a492f-e83d-480e-a083-534a55de76c1"
      },
      "source": [
        "print(\"hello, jjntua\")"
      ],
      "execution_count": 2,
      "outputs": [
        {
          "output_type": "stream",
          "text": [
            "hello, jjntua\n"
          ],
          "name": "stdout"
        }
      ]
    },
    {
      "cell_type": "code",
      "metadata": {
        "id": "fSZsex-iIA10",
        "colab_type": "code",
        "colab": {
          "base_uri": "https://localhost:8080/",
          "height": 33
        },
        "outputId": "ed038a7c-90ed-4b45-8164-0b85f7d8960c"
      },
      "source": [
        "print(\"hello, jntua\",\"|||\",\"chemical\",\"|||\",\"cse\")"
      ],
      "execution_count": 3,
      "outputs": [
        {
          "output_type": "stream",
          "text": [
            "hello, jntua ||| chemical ||| cse\n"
          ],
          "name": "stdout"
        }
      ]
    },
    {
      "cell_type": "code",
      "metadata": {
        "id": "8iZCV2D3Ijxw",
        "colab_type": "code",
        "colab": {}
      },
      "source": [
        ""
      ],
      "execution_count": 0,
      "outputs": []
    },
    {
      "cell_type": "markdown",
      "metadata": {
        "id": "gL2glJ2cIwgH",
        "colab_type": "text"
      },
      "source": [
        "# Assignment"
      ]
    },
    {
      "cell_type": "code",
      "metadata": {
        "id": "aDPTvLL1I1Ci",
        "colab_type": "code",
        "colab": {
          "base_uri": "https://localhost:8080/",
          "height": 67
        },
        "outputId": "d51386b2-accf-46c3-babf-a3c8773a9eb7"
      },
      "source": [
        "n1=100  #single variable assignment\n",
        "print(n1)\n",
        "a=b=c=10  #multiplevariable assignment\n",
        "print(a,b,c)\n",
        "a1,b1,c1=100,2000,3000\n",
        "print(a1,b1,c1)\n"
      ],
      "execution_count": 9,
      "outputs": [
        {
          "output_type": "stream",
          "text": [
            "100\n",
            "10 10 10\n",
            "100 2000 3000\n"
          ],
          "name": "stdout"
        }
      ]
    },
    {
      "cell_type": "markdown",
      "metadata": {
        "id": "prdvWucHKbfq",
        "colab_type": "text"
      },
      "source": [
        "# Data Types and conversions\n",
        "* int\n",
        "* float\n",
        "* string"
      ]
    },
    {
      "cell_type": "markdown",
      "metadata": {
        "id": "-0K2Sj2FLCjQ",
        "colab_type": "text"
      },
      "source": [
        ""
      ]
    },
    {
      "cell_type": "code",
      "metadata": {
        "id": "89JupdWcJBRP",
        "colab_type": "code",
        "colab": {
          "base_uri": "https://localhost:8080/",
          "height": 33
        },
        "outputId": "b4ff13ad-2fe4-4682-bcd6-1654e8187b37"
      },
      "source": [
        "a=100\n",
        "s1=10.2\n",
        "s2=\"python\"\n",
        "print(type(a),type(s1),type(s2))"
      ],
      "execution_count": 11,
      "outputs": [
        {
          "output_type": "stream",
          "text": [
            "<class 'int'> <class 'float'> <class 'str'>\n"
          ],
          "name": "stdout"
        }
      ]
    },
    {
      "cell_type": "code",
      "metadata": {
        "id": "ps2yCEkLK_Zv",
        "colab_type": "code",
        "colab": {
          "base_uri": "https://localhost:8080/",
          "height": 84
        },
        "outputId": "78231862-50d1-4ddb-c491-f46fc37b3621"
      },
      "source": [
        "i=100\n",
        "print(type(i))\n",
        "s1=str(i)\n",
        "print(s1)\n",
        "f1=float(i)\n",
        "print(f1)\n",
        "print(type(f1))"
      ],
      "execution_count": 16,
      "outputs": [
        {
          "output_type": "stream",
          "text": [
            "<class 'int'>\n",
            "100\n",
            "100.0\n",
            "<class 'float'>\n"
          ],
          "name": "stdout"
        }
      ]
    },
    {
      "cell_type": "code",
      "metadata": {
        "id": "f4s3G7KJL_f0",
        "colab_type": "code",
        "colab": {
          "base_uri": "https://localhost:8080/",
          "height": 33
        },
        "outputId": "5d1c32d0-7369-4e8b-e9f9-ab7f6cbed596"
      },
      "source": [
        "a='1234'\n",
        "print(len(a))"
      ],
      "execution_count": 17,
      "outputs": [
        {
          "output_type": "stream",
          "text": [
            "4\n"
          ],
          "name": "stdout"
        }
      ]
    },
    {
      "cell_type": "code",
      "metadata": {
        "id": "LgOurM3gM-fJ",
        "colab_type": "code",
        "colab": {}
      },
      "source": [
        ""
      ],
      "execution_count": 0,
      "outputs": []
    },
    {
      "cell_type": "markdown",
      "metadata": {
        "id": "MfKFn0rWNa7v",
        "colab_type": "text"
      },
      "source": [
        "# Reading input from user using input()"
      ]
    },
    {
      "cell_type": "code",
      "metadata": {
        "id": "01kLHZEvNlUg",
        "colab_type": "code",
        "colab": {
          "base_uri": "https://localhost:8080/",
          "height": 67
        },
        "outputId": "7bb9d44f-1be4-4e6d-8c9e-b6069d2cebdd"
      },
      "source": [
        "a=input(\"enter ur name\")\n",
        "print(a)\n",
        "type(a)"
      ],
      "execution_count": 20,
      "outputs": [
        {
          "output_type": "stream",
          "text": [
            "enter ur namePurna\n",
            "Purna\n"
          ],
          "name": "stdout"
        },
        {
          "output_type": "execute_result",
          "data": {
            "text/plain": [
              "str"
            ]
          },
          "metadata": {
            "tags": []
          },
          "execution_count": 20
        }
      ]
    },
    {
      "cell_type": "code",
      "metadata": {
        "id": "qVCUvlfNNufK",
        "colab_type": "code",
        "colab": {
          "base_uri": "https://localhost:8080/",
          "height": 67
        },
        "outputId": "894920da-79b5-45ca-8c18-32f4801f251d"
      },
      "source": [
        "n=int(input(\"enter ur age \"))\n",
        "print(n)\n",
        "type(n)"
      ],
      "execution_count": 24,
      "outputs": [
        {
          "output_type": "stream",
          "text": [
            "enter ur age 20\n",
            "20\n"
          ],
          "name": "stdout"
        },
        {
          "output_type": "execute_result",
          "data": {
            "text/plain": [
              "int"
            ]
          },
          "metadata": {
            "tags": []
          },
          "execution_count": 24
        }
      ]
    },
    {
      "cell_type": "code",
      "metadata": {
        "id": "8_5XmBWBOWIF",
        "colab_type": "code",
        "colab": {
          "base_uri": "https://localhost:8080/",
          "height": 33
        },
        "outputId": "f7b153be-2171-4d15-c630-578d6f061e61"
      },
      "source": [
        "a=\"12345\"\n",
        "print(len(a))"
      ],
      "execution_count": 26,
      "outputs": [
        {
          "output_type": "stream",
          "text": [
            "5\n"
          ],
          "name": "stdout"
        }
      ]
    },
    {
      "cell_type": "code",
      "metadata": {
        "id": "Dpl0FQgWO-4s",
        "colab_type": "code",
        "colab": {}
      },
      "source": [
        ""
      ],
      "execution_count": 0,
      "outputs": []
    },
    {
      "cell_type": "markdown",
      "metadata": {
        "id": "gdKpOSLnPEv0",
        "colab_type": "text"
      },
      "source": [
        "# Operators"
      ]
    },
    {
      "cell_type": "code",
      "metadata": {
        "id": "IdbGIQ9jPHSD",
        "colab_type": "code",
        "colab": {}
      },
      "source": [
        ""
      ],
      "execution_count": 0,
      "outputs": []
    },
    {
      "cell_type": "markdown",
      "metadata": {
        "id": "ikhmmw1hPW6a",
        "colab_type": "text"
      },
      "source": [
        "# Arithmetic operator\n",
        ": +\n",
        "\n",
        ": /\n",
        "\n",
        ": *\n",
        "\n",
        ": %\n",
        "\n",
        ": -\n",
        "\n",
        ": //(floor operator)"
      ]
    },
    {
      "cell_type": "code",
      "metadata": {
        "id": "Gp2Sy72-PaXd",
        "colab_type": "code",
        "colab": {
          "base_uri": "https://localhost:8080/",
          "height": 134
        },
        "outputId": "9abe46e4-d72c-49fe-d92a-b1dfa7fafeb2"
      },
      "source": [
        "a=1234\n",
        "print(a+10)\n",
        "print(a-10)\n",
        "print(a*10)\n",
        "print(a%10)\n",
        "print(a/10)\n",
        "print(a//10)\n",
        "print(a**10)"
      ],
      "execution_count": 29,
      "outputs": [
        {
          "output_type": "stream",
          "text": [
            "1244\n",
            "1224\n",
            "12340\n",
            "4\n",
            "123.4\n",
            "123\n",
            "8187505353567209228244052427776\n"
          ],
          "name": "stdout"
        }
      ]
    },
    {
      "cell_type": "code",
      "metadata": {
        "id": "GpnG6a_VPyV-",
        "colab_type": "code",
        "colab": {}
      },
      "source": [
        ""
      ],
      "execution_count": 0,
      "outputs": []
    },
    {
      "cell_type": "markdown",
      "metadata": {
        "id": "WSDQbHOsR6Ya",
        "colab_type": "text"
      },
      "source": [
        "# Relational operator"
      ]
    },
    {
      "cell_type": "code",
      "metadata": {
        "id": "9shRb9gER9lr",
        "colab_type": "code",
        "colab": {
          "base_uri": "https://localhost:8080/",
          "height": 33
        },
        "outputId": "e1a15ef6-91b4-4730-f05a-437570cdc0e7"
      },
      "source": [
        "x=15\n",
        "a1=x>15\n",
        "print(a1)"
      ],
      "execution_count": 30,
      "outputs": [
        {
          "output_type": "stream",
          "text": [
            "False\n"
          ],
          "name": "stdout"
        }
      ]
    },
    {
      "cell_type": "code",
      "metadata": {
        "id": "eAWQfwjJSkWh",
        "colab_type": "code",
        "colab": {}
      },
      "source": [
        ""
      ],
      "execution_count": 0,
      "outputs": []
    },
    {
      "cell_type": "markdown",
      "metadata": {
        "id": "0ndHY8hNS6T8",
        "colab_type": "text"
      },
      "source": [
        "# Logical operators"
      ]
    },
    {
      "cell_type": "code",
      "metadata": {
        "id": "v-b06P4FS-Ui",
        "colab_type": "code",
        "colab": {
          "base_uri": "https://localhost:8080/",
          "height": 50
        },
        "outputId": "8c1787b6-7d2e-475a-ef3f-0e87a2aeda02"
      },
      "source": [
        "a=10\n",
        "b=a>5 and a<20\n",
        "print(b)\n",
        "a2=(a!=100)\n",
        "print(a2)"
      ],
      "execution_count": 35,
      "outputs": [
        {
          "output_type": "stream",
          "text": [
            "True\n",
            "True\n"
          ],
          "name": "stdout"
        }
      ]
    },
    {
      "cell_type": "markdown",
      "metadata": {
        "id": "6uXmtcYgUmIU",
        "colab_type": "text"
      },
      "source": [
        "# Control flow statements\n",
        "->conditional\n",
        "\n",
        "->looping statements"
      ]
    },
    {
      "cell_type": "code",
      "metadata": {
        "id": "25N_KnpHTRM6",
        "colab_type": "code",
        "colab": {}
      },
      "source": [
        ""
      ],
      "execution_count": 0,
      "outputs": []
    },
    {
      "cell_type": "markdown",
      "metadata": {
        "id": "P9n2ZaJcU-_G",
        "colab_type": "text"
      },
      "source": [
        "# if-else statements"
      ]
    },
    {
      "cell_type": "code",
      "metadata": {
        "id": "92E2QjcRVCWP",
        "colab_type": "code",
        "colab": {
          "base_uri": "https://localhost:8080/",
          "height": 33
        },
        "outputId": "dd3476e0-b6da-42ec-9614-8fca4dd7dc3e"
      },
      "source": [
        "a=100\n",
        "if(a%2==0):\n",
        "  print(\"even\")\n",
        "else:\n",
        "  print(\"odd\")"
      ],
      "execution_count": 36,
      "outputs": [
        {
          "output_type": "stream",
          "text": [
            "even\n"
          ],
          "name": "stdout"
        }
      ]
    },
    {
      "cell_type": "code",
      "metadata": {
        "id": "ZinPk6eoVrxj",
        "colab_type": "code",
        "colab": {}
      },
      "source": [
        ""
      ],
      "execution_count": 0,
      "outputs": []
    },
    {
      "cell_type": "markdown",
      "metadata": {
        "id": "52Rf58wgW6er",
        "colab_type": "text"
      },
      "source": [
        "# check given number is multiples of 3 and 5"
      ]
    },
    {
      "cell_type": "code",
      "metadata": {
        "id": "hGF7PsWGXBru",
        "colab_type": "code",
        "colab": {
          "base_uri": "https://localhost:8080/",
          "height": 128
        },
        "outputId": "63ca7a64-93b9-4c10-9cff-123bd7244759"
      },
      "source": [
        "a=int(input(\"enter a number\"))\n",
        "if(a%15==0)"
      ],
      "execution_count": 37,
      "outputs": [
        {
          "output_type": "error",
          "ename": "SyntaxError",
          "evalue": "ignored",
          "traceback": [
            "\u001b[0;36m  File \u001b[0;32m\"<ipython-input-37-17811e21635e>\"\u001b[0;36m, line \u001b[0;32m2\u001b[0m\n\u001b[0;31m    if(a%15==0)\u001b[0m\n\u001b[0m               ^\u001b[0m\n\u001b[0;31mSyntaxError\u001b[0m\u001b[0;31m:\u001b[0m invalid syntax\n"
          ]
        }
      ]
    },
    {
      "cell_type": "code",
      "metadata": {
        "id": "UZs4HyS5XNG_",
        "colab_type": "code",
        "colab": {
          "base_uri": "https://localhost:8080/",
          "height": 50
        },
        "outputId": "faaae252-3126-4b5c-b0d0-8f89b49e8eae"
      },
      "source": [
        "a=int(input(\"enter a number\"))\n",
        "if(a%15==0):\n",
        "  print(\"given number is multiple of 3 and 5\")\n",
        "else:\n",
        "  print(\"given number is not multiple of 3 and 5\")"
      ],
      "execution_count": 41,
      "outputs": [
        {
          "output_type": "stream",
          "text": [
            "enter a number4\n",
            "given number is not multiple of 3 and 5\n"
          ],
          "name": "stdout"
        }
      ]
    },
    {
      "cell_type": "code",
      "metadata": {
        "id": "F4yvmpIYXcRk",
        "colab_type": "code",
        "colab": {
          "base_uri": "https://localhost:8080/",
          "height": 33
        },
        "outputId": "7aee26d4-1676-4a17-d740-83526e83faf1"
      },
      "source": [
        "60"
      ],
      "execution_count": 39,
      "outputs": [
        {
          "output_type": "execute_result",
          "data": {
            "text/plain": [
              "60"
            ]
          },
          "metadata": {
            "tags": []
          },
          "execution_count": 39
        }
      ]
    },
    {
      "cell_type": "markdown",
      "metadata": {
        "id": "xVf4aeYuZbwV",
        "colab_type": "text"
      },
      "source": [
        "# given number is +ve or -ve or zero"
      ]
    },
    {
      "cell_type": "code",
      "metadata": {
        "id": "NbhNEN-hXdoA",
        "colab_type": "code",
        "colab": {
          "base_uri": "https://localhost:8080/",
          "height": 50
        },
        "outputId": "ed5aead2-6c35-416c-a51f-a0c9e51de142"
      },
      "source": [
        "a=int(input(\"enter a number\"))\n",
        "if(a>0):\n",
        "  print(\"positiive\")\n",
        "elif(a<0):\n",
        "  print(\"negative\")\n",
        "else:\n",
        "  print(\"itis zero which is neither positive nor negative \")"
      ],
      "execution_count": 44,
      "outputs": [
        {
          "output_type": "stream",
          "text": [
            "enter a number5\n",
            "positiive\n"
          ],
          "name": "stdout"
        }
      ]
    },
    {
      "cell_type": "code",
      "metadata": {
        "id": "UN0RpZGnZzla",
        "colab_type": "code",
        "colab": {
          "base_uri": "https://localhost:8080/",
          "height": 84
        },
        "outputId": "9d75752b-f6b2-417a-aad4-e55f934ea0e3"
      },
      "source": [
        "a=int(input(\"enter a number\"))\n",
        "b=int(input(\"enter b number\"))\n",
        "c=int(input(\"enter c number\"))\n",
        "if(a>b and a>c):\n",
        "  print(\"a is greater\")\n",
        "elif(b>a and b>c):\n",
        "  print(\"b is greater\")\n",
        "else:\n",
        "  print(\" c is greater \")"
      ],
      "execution_count": 46,
      "outputs": [
        {
          "output_type": "stream",
          "text": [
            "enter a number12\n",
            "enter b number18\n",
            "enter c number9\n",
            "b is greater\n"
          ],
          "name": "stdout"
        }
      ]
    },
    {
      "cell_type": "code",
      "metadata": {
        "id": "Vn5ZqAxQaZU3",
        "colab_type": "code",
        "colab": {
          "base_uri": "https://localhost:8080/",
          "height": 50
        },
        "outputId": "ae1f24de-aa65-41c4-f2eb-be0467ea40f9"
      },
      "source": [
        "a=int(input(\"enter a year\"))\n",
        "if(a%4==0):\n",
        "  if(a%100==0):\n",
        "    if(a%400==0):\n",
        "      print(\"It is leap year\")\n",
        "    else:\n",
        "      print(\"it is not a leap year\")\n",
        "  else:\n",
        "    print(\"it is a leap year\")\n",
        "else:\n",
        "  print(\"it is not a leap year\")\n"
      ],
      "execution_count": 58,
      "outputs": [
        {
          "output_type": "stream",
          "text": [
            "enter a year2100\n",
            "it is not a leap year\n"
          ],
          "name": "stdout"
        }
      ]
    },
    {
      "cell_type": "code",
      "metadata": {
        "id": "dgBrL2TGdlRN",
        "colab_type": "code",
        "colab": {}
      },
      "source": [
        ""
      ],
      "execution_count": 0,
      "outputs": []
    }
  ]
}